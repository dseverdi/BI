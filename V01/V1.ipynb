{
 "cells": [
  {
   "cell_type": "markdown",
   "metadata": {},
   "source": [
    "# V1: Osnove programiranje u Pythonu"
   ]
  },
  {
   "cell_type": "markdown",
   "metadata": {},
   "source": [
    "## Priprema\n",
    "\n",
    "### Visual Studio Code \n",
    "\n",
    "\n",
    "\n",
    "### GitHub repozitorij\n",
    "\n",
    "Evo skraćenih osnovnih koraka za inicijalizaciju GitHub repozitorija iz postojeće mape:\n",
    "\n",
    "  1. Instalirajte Git: Preuzmite i instalirajte Git sa Git web stranice.\n",
    "\n",
    "  2. Kreirajte mapu: Stvorite mapu za svoj projekt na svom računalu.\n",
    "\n",
    "  3. Inicijalizirajte Git repozitorij: Otvorite naredbeni redak, navigirajte do mape projekta i izvršite `git init`.\n",
    "\n",
    "  4. Dodajte datoteke: Upotrijebite `git add .` da biste dodali sve datoteke u Git repozitorij.\n",
    "\n",
    "  5. Napravite \"commit\": Izvršite `git commit -m \"postavljanje repozitorija\"` kako biste sačuvali promjene.\n",
    "\n",
    "  6. Povežite s GitHub repozitorijem: Stvorite prazan repozitorij na GitHubu i povežite ga s lokalnim repozitorijem pomoću `git remote add origin https://github.com/your-username/BI.git`\n",
    "`.\n",
    "\n",
    " 7. Prenesite \"commit\"ove na GitHub: Koristite `git push -u origin glavna-grana` kako biste prenijeli svoje \"commit\"ove na GitHub.\n",
    "\n",
    "Sada imate inicijaliziran GitHub repozitorij i možete upravljati svojim projektom na GitHubu."
   ]
  },
  {
   "cell_type": "code",
   "execution_count": 2,
   "metadata": {},
   "outputs": [
    {
     "name": "stdout",
     "output_type": "stream",
     "text": [
      "2\n",
      "4\n"
     ]
    }
   ],
   "source": [
    "x = 2\n",
    "print(x)\n",
    "x = x + 2\n",
    "print(x)"
   ]
  },
  {
   "cell_type": "code",
   "execution_count": 3,
   "metadata": {},
   "outputs": [
    {
     "name": "stdout",
     "output_type": "stream",
     "text": [
      "5\n",
      "4\n",
      "3\n",
      "2\n",
      "1\n",
      "Kraj!!!\n"
     ]
    }
   ],
   "source": [
    "n = 5\n",
    "while n > 0:\n",
    "    print(n)\n",
    "    n = n - 1\n",
    "print(\"Kraj!!!\")"
   ]
  },
  {
   "cell_type": "code",
   "execution_count": 4,
   "metadata": {},
   "outputs": [
    {
     "data": {
      "text/plain": [
       "6.999744"
      ]
     },
     "execution_count": 4,
     "metadata": {},
     "output_type": "execute_result"
    }
   ],
   "source": [
    "1 + 2*3 - 4/5**6"
   ]
  },
  {
   "cell_type": "code",
   "execution_count": 5,
   "metadata": {},
   "outputs": [
    {
     "data": {
      "text/plain": [
       "6.999744"
      ]
     },
     "execution_count": 5,
     "metadata": {},
     "output_type": "execute_result"
    }
   ],
   "source": [
    "1 + (2*3) - 4/5**6"
   ]
  },
  {
   "cell_type": "code",
   "execution_count": 8,
   "metadata": {},
   "outputs": [
    {
     "data": {
      "text/plain": [
       "6.999744"
      ]
     },
     "execution_count": 8,
     "metadata": {},
     "output_type": "execute_result"
    }
   ],
   "source": [
    "1 + 2*3 - 4/(5**6)"
   ]
  },
  {
   "cell_type": "code",
   "execution_count": 10,
   "metadata": {},
   "outputs": [
    {
     "data": {
      "text/plain": [
       "6.737856"
      ]
     },
     "execution_count": 10,
     "metadata": {},
     "output_type": "execute_result"
    }
   ],
   "source": [
    "1 + 2*3 - (4/5)**6"
   ]
  },
  {
   "cell_type": "code",
   "execution_count": 6,
   "metadata": {},
   "outputs": [
    {
     "name": "stdout",
     "output_type": "stream",
     "text": [
      "<class 'str'>\n",
      "124\n"
     ]
    }
   ],
   "source": [
    "x = '123'\n",
    "print(type(x))\n",
    "y = int(x) + 1\n",
    "print(y)"
   ]
  },
  {
   "cell_type": "code",
   "execution_count": 8,
   "metadata": {},
   "outputs": [
    {
     "name": "stdout",
     "output_type": "stream",
     "text": [
      "6\n"
     ]
    }
   ],
   "source": [
    "inp = input('Upišite broj:')\n",
    "x = int(inp) + 1\n",
    "print(x)"
   ]
  },
  {
   "cell_type": "code",
   "execution_count": null,
   "metadata": {},
   "outputs": [],
   "source": []
  }
 ],
 "metadata": {
  "kernelspec": {
   "display_name": "Python 3",
   "language": "python",
   "name": "python3"
  },
  "language_info": {
   "codemirror_mode": {
    "name": "ipython",
    "version": 3
   },
   "file_extension": ".py",
   "mimetype": "text/x-python",
   "name": "python",
   "nbconvert_exporter": "python",
   "pygments_lexer": "ipython3",
   "version": "3.9.16"
  }
 },
 "nbformat": 4,
 "nbformat_minor": 4
}
